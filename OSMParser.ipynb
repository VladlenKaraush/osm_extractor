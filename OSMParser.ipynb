{
 "cells": [
  {
   "cell_type": "code",
   "execution_count": 5,
   "metadata": {},
   "outputs": [
    {
     "name": "stdout",
     "output_type": "stream",
     "text": [
      "{'highway': 'residential', 'lanes': '1', 'lit': 'yes', 'maxspeed': 'RU:urban', 'name': 'набережная канала Грибоедова', 'name:ru': 'набережная канала Грибоедова', 'surface': 'asphalt'}\n",
      "5689 highways found\n"
     ]
    }
   ],
   "source": [
    "from osmread import parse_file, Way, Node, Relation\n",
    "\n",
    "highway_count = 0\n",
    "file = 'SanktPetersburg.osm'\n",
    "\n",
    "parsed_file = parse_file('Downloads/map.osm.xml')\n",
    "for entity in parsed_file:\n",
    "    if isinstance(entity, Way) and 'highway' in entity.tags:\n",
    "        if highway_count == 0 :\n",
    "            print(entity.tags)\n",
    "        highway_count += 1\n",
    "\n",
    "print(\"%d highways found\" % highway_count)"
   ]
  },
  {
   "cell_type": "code",
   "execution_count": 19,
   "metadata": {},
   "outputs": [
    {
     "name": "stdout",
     "output_type": "stream",
     "text": [
      "352867\n",
      "101.45038366317749\n"
     ]
    }
   ],
   "source": [
    "import xml.etree.ElementTree\n",
    "import time\n",
    "\n",
    "start = time.time()\n",
    "\n",
    "\n",
    "file = 'SanktPetersburg.osm'\n",
    "counter = 0\n",
    "\n",
    "e = xml.etree.ElementTree.parse(file).getroot()\n",
    "for atype in e.findall('way'):\n",
    "    counter += 1\n",
    "    #print(atype.get('foobar'))\n",
    "print(counter)\n",
    "end = time.time()\n",
    "print(end - start)"
   ]
  }
 ],
 "metadata": {
  "kernelspec": {
   "display_name": "Python 3",
   "language": "python",
   "name": "python3"
  },
  "language_info": {
   "codemirror_mode": {
    "name": "ipython",
    "version": 3
   },
   "file_extension": ".py",
   "mimetype": "text/x-python",
   "name": "python",
   "nbconvert_exporter": "python",
   "pygments_lexer": "ipython3",
   "version": "3.6.6"
  }
 },
 "nbformat": 4,
 "nbformat_minor": 2
}
