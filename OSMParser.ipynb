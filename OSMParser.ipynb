{
 "cells": [
  {
   "cell_type": "code",
   "execution_count": 5,
   "metadata": {},
   "outputs": [
    {
     "name": "stdout",
     "output_type": "stream",
     "text": [
      "{'highway': 'residential', 'lanes': '1', 'lit': 'yes', 'maxspeed': 'RU:urban', 'name': 'набережная канала Грибоедова', 'name:ru': 'набережная канала Грибоедова', 'surface': 'asphalt'}\n",
      "5689 highways found\n"
     ]
    }
   ],
   "source": [
    "from osmread import parse_file, Way, Node, Relation\n",
    "\n",
    "highway_count = 0\n",
    "file = 'SanktPetersburg.osm'\n",
    "\n",
    "parsed_file = parse_file('Downloads/map.osm.xml')\n",
    "for entity in parsed_file:\n",
    "    if isinstance(entity, Way) and 'highway' in entity.tags:\n",
    "        if highway_count == 0 :\n",
    "            print(entity.tags)\n",
    "        highway_count += 1\n",
    "\n",
    "print(\"%d highways found\" % highway_count)"
   ]
  },
  {
   "cell_type": "code",
   "execution_count": 9,
   "metadata": {},
   "outputs": [
    {
     "data": {
      "text/plain": [
       "{'id': '21725555',\n",
       " 'visible': 'true',\n",
       " 'version': '7',\n",
       " 'changeset': '42553758',\n",
       " 'timestamp': '2016-09-30T22:36:20Z',\n",
       " 'user': 'mini-me',\n",
       " 'uid': '3846961',\n",
       " 'lat': '59.9408285'}"
      ]
     },
     "execution_count": 9,
     "metadata": {},
     "output_type": "execute_result"
    }
   ],
   "source": [
    "root[100].attrib"
   ]
  },
  {
   "cell_type": "code",
   "execution_count": 11,
   "metadata": {},
   "outputs": [],
   "source": [
    "#reduces map file by 35% alone\n",
    "def delete_useless_attribs():\n",
    "    useless_attribs = ['visible','version', 'changeset', 'timestamp','user','uid']\n",
    "    \n",
    "    for element in root:\n",
    "        for attr in useless_attribs:\n",
    "            if attr in element.attrib:\n",
    "                element.attrib.pop(attr)\n",
    "    \n",
    "            "
   ]
  },
  {
   "cell_type": "code",
   "execution_count": null,
   "metadata": {},
   "outputs": [],
   "source": [
    "def delete_useless_tags():\n",
    "    useless_tags = ['wikidata','name','name:de','name:en','name:fi','name*','name:ru','network','operator','wikipedia',\n",
    "                    'website','','','',]\n",
    "    "
   ]
  },
  {
   "cell_type": "code",
   "execution_count": 3,
   "metadata": {},
   "outputs": [],
   "source": [
    "import xml.etree.ElementTree as ET\n",
    "\n",
    "#file = 'SanktPetersburg.osm'\n",
    "#part of saint petersburg, whole map is huge\n",
    "file = 'Downloads/map.osm.xml'\n",
    "\n",
    "#load initial map\n",
    "tree = ET.parse(file)\n",
    "root = tree.getroot()"
   ]
  },
  {
   "cell_type": "code",
   "execution_count": null,
   "metadata": {},
   "outputs": [],
   "source": [
    "#output result map\n",
    "tree.write(\"output.xml\")"
   ]
  }
 ],
 "metadata": {
  "kernelspec": {
   "display_name": "Python 3",
   "language": "python",
   "name": "python3"
  },
  "language_info": {
   "codemirror_mode": {
    "name": "ipython",
    "version": 3
   },
   "file_extension": ".py",
   "mimetype": "text/x-python",
   "name": "python",
   "nbconvert_exporter": "python",
   "pygments_lexer": "ipython3",
   "version": "3.6.6"
  }
 },
 "nbformat": 4,
 "nbformat_minor": 2
}
